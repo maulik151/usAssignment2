{
 "cells": [
  {
   "cell_type": "code",
   "execution_count": 1,
   "id": "62540078",
   "metadata": {},
   "outputs": [],
   "source": [
    "#Import All Necessary Files\n",
    "from sklearn.datasets import fetch_olivetti_faces\n",
    "from sklearn.model_selection import train_test_split\n",
    "from sklearn.model_selection import cross_val_score\n",
    "from sklearn.neighbors import KNeighborsClassifier\n",
    "from sklearn.cluster import KMeans\n",
    "from sklearn.metrics import silhouette_score\n",
    "import numpy as np\n",
    "from sklearn.decomposition import PCA\n",
    "from sklearn.cluster import DBSCAN\n",
    "from sklearn.metrics import pairwise_distances\n",
    "from sklearn.preprocessing import StandardScaler"
   ]
  },
  {
   "cell_type": "code",
   "execution_count": 2,
   "id": "39810f0f",
   "metadata": {},
   "outputs": [],
   "source": [
    "#Retrieve and load the Olivetti faces dataset \n",
    "olivetti_faces = fetch_olivetti_faces(shuffle=True, random_state=42)\n",
    "X, y = olivetti_faces.data, olivetti_faces.target"
   ]
  },
  {
   "cell_type": "code",
   "execution_count": 3,
   "id": "32592597",
   "metadata": {},
   "outputs": [],
   "source": [
    "#This will split the training data set and temporary data set (60% Training, 40% Temp)\n",
    "X_train, X_temp, y_train, y_temp = train_test_split(X, y, test_size=0.4, stratify=y, random_state=40)\n",
    "\n",
    "#This will split the temporary data set into validation and test sets (50% validation, 50% test)\n",
    "X_val, X_test, y_val, y_test = train_test_split(X_temp, y_temp, test_size=0.5, stratify=y_temp, random_state=40)"
   ]
  },
  {
   "cell_type": "code",
   "execution_count": 8,
   "id": "a539bf38",
   "metadata": {},
   "outputs": [
    {
     "name": "stdout",
     "output_type": "stream",
     "text": [
      "Average Accuracy (Cross-Validation): 0.71\n",
      "Accuracy on Validation Set: 0.71\n"
     ]
    }
   ],
   "source": [
    "# Create the K-nearest neighbors classifier\n",
    "classifier = KNeighborsClassifier(n_neighbors=5)\n",
    "\n",
    "# Perform k-fold cross-validation\n",
    "k = 5  # Number of folds \n",
    "cross_val_scores = cross_val_score(classifier, X_train, y_train, cv=k)\n",
    "\n",
    "# Calculate the average accuracy\n",
    "average_accuracy = cross_val_scores.mean()\n",
    "\n",
    "# Fit the classifier on the entire training set\n",
    "classifier.fit(X_train, y_train)\n",
    "\n",
    "# Evaluate the classifier on the validation set\n",
    "validation_accuracy = classifier.score(X_val, y_val)\n",
    "\n",
    "print(f'Average Accuracy (Cross-Validation): {average_accuracy:.2f}')\n",
    "print(f'Accuracy on Validation Set: {validation_accuracy:.2f}')"
   ]
  },
  {
   "cell_type": "code",
   "execution_count": 10,
   "id": "d1ccc0dc",
   "metadata": {},
   "outputs": [
    {
     "name": "stdout",
     "output_type": "stream",
     "text": [
      "Number of Clusters: 2, Silhouette Score: 0.15\n",
      "Number of Clusters: 3, Silhouette Score: 0.11\n",
      "Number of Clusters: 4, Silhouette Score: 0.10\n",
      "Number of Clusters: 5, Silhouette Score: 0.10\n",
      "Number of Clusters: 6, Silhouette Score: 0.09\n",
      "Number of Clusters: 7, Silhouette Score: 0.09\n",
      "Number of Clusters: 8, Silhouette Score: 0.09\n",
      "Best Number of Clusters: 2, Best Silhouette Score: 0.15\n"
     ]
    }
   ],
   "source": [
    "# Reduce dimensionality using K-Means\n",
    "n_clusters_range = range(2, 9)  \n",
    "\n",
    "best_silhouette_score = -1\n",
    "best_n_clusters = 0\n",
    "best_kmeans = None\n",
    "\n",
    "for n_clusters in n_clusters_range:\n",
    "    kmeans = KMeans(n_clusters=n_clusters, random_state=40)\n",
    "    cluster_labels = kmeans.fit_predict(X_train)\n",
    "    \n",
    "    silhouette_avg = silhouette_score(X_train, cluster_labels)\n",
    "    \n",
    "    #This will find the number of clusters and silhouette score\n",
    "    print(f'Number of Clusters: {n_clusters}, Silhouette Score: {silhouette_avg:.2f}')\n",
    "    \n",
    "    if silhouette_avg > best_silhouette_score:\n",
    "        best_silhouette_score = silhouette_avg\n",
    "        best_n_clusters = n_clusters\n",
    "        best_kmeans = kmeans\n",
    "\n",
    "#This will find the best number of clusters and silhouette score\n",
    "print(f'Best Number of Clusters: {best_n_clusters}, Best Silhouette Score: {best_silhouette_score:.2f}')\n",
    "\n",
    "# Fit the best K-Means model on the entire training set\n",
    "best_kmeans.fit(X_train)\n",
    "\n",
    "# Transform the data using the best K-Means model to reduce dimensionality\n",
    "X_train_reduced = best_kmeans.transform(X_train)\n",
    "X_val_reduced = best_kmeans.transform(X_val)\n"
   ]
  },
  {
   "cell_type": "code",
   "execution_count": 11,
   "id": "7173bfc5",
   "metadata": {},
   "outputs": [
    {
     "name": "stdout",
     "output_type": "stream",
     "text": [
      "Accuracy on Validation Set: 0.24\n"
     ]
    }
   ],
   "source": [
    "# Create the K-nearest neighbors classifier\n",
    "classifier = KNeighborsClassifier(n_neighbors=5)\n",
    "\n",
    "# Train the classifier on the reduced training data\n",
    "classifier.fit(X_train_reduced, y_train)\n",
    "\n",
    "# Evaluate the classifier on the reduced validation data\n",
    "validation_accuracy = classifier.score(X_val_reduced, y_val)\n",
    "\n",
    "# Print the accuracy on the validation set\n",
    "print(f'Accuracy on Validation Set: {validation_accuracy:.2f}')"
   ]
  },
  {
   "cell_type": "code",
   "execution_count": 14,
   "id": "2c34005b",
   "metadata": {},
   "outputs": [
    {
     "name": "stdout",
     "output_type": "stream",
     "text": [
      "Number of Clusters: 21\n"
     ]
    }
   ],
   "source": [
    "# Reshape the images into feature vectors\n",
    "X = olivetti_faces.images.reshape((len(olivetti_faces.images), -1))\n",
    "\n",
    "# Standardize the feature vectors\n",
    "scaler = StandardScaler()\n",
    "X_scaled = scaler.fit_transform(X)\n",
    "\n",
    "# Apply PCA for dimensionality reduction \n",
    "n_components = 100 \n",
    "pca = PCA(n_components=n_components, random_state=40)\n",
    "X_pca = pca.fit_transform(X_scaled)\n",
    "\n",
    "# Compute pairwise cosine distances\n",
    "cosine_distances = pairwise_distances(X_pca, metric='cosine')\n",
    "\n",
    "# Apply DBSCAN clustering\n",
    "eps = 0.3  \n",
    "min_samples = 5  \n",
    "dbscan = DBSCAN(eps=eps, min_samples=min_samples, metric='precomputed')\n",
    "labels = dbscan.fit_predict(cosine_distances)\n",
    "\n",
    "# Number of clusters (including noise points, labeled as -1)\n",
    "n_clusters = len(set(labels)) - (1 if -1 in labels else 0)\n",
    "print(f'Number of Clusters: {n_clusters}')\n"
   ]
  },
  {
   "cell_type": "code",
   "execution_count": null,
   "id": "31b33068",
   "metadata": {},
   "outputs": [],
   "source": []
  }
 ],
 "metadata": {
  "kernelspec": {
   "display_name": "Python 3 (ipykernel)",
   "language": "python",
   "name": "python3"
  },
  "language_info": {
   "codemirror_mode": {
    "name": "ipython",
    "version": 3
   },
   "file_extension": ".py",
   "mimetype": "text/x-python",
   "name": "python",
   "nbconvert_exporter": "python",
   "pygments_lexer": "ipython3",
   "version": "3.9.12"
  }
 },
 "nbformat": 4,
 "nbformat_minor": 5
}
